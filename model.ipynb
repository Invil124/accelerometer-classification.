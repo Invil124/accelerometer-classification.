{
 "cells": [
  {
   "cell_type": "code",
   "execution_count": 1,
   "id": "097c4b5e",
   "metadata": {},
   "outputs": [],
   "source": [
    "path = \"D:\\moduls\\hw5\\homework\\data\""
   ]
  },
  {
   "cell_type": "code",
   "execution_count": 3,
   "id": "78f8199a",
   "metadata": {},
   "outputs": [],
   "source": [
    "from os import listdir\n",
    "from os.path import isfile, join\n",
    "import numpy as np\n",
    "import pandas as pd \n",
    "\n",
    "activities = listdir(path)"
   ]
  },
  {
   "cell_type": "code",
   "execution_count": 9,
   "id": "f0fd73dc",
   "metadata": {},
   "outputs": [
    {
     "data": {
      "text/plain": [
       "['idle', 'running', 'stairs', 'walking']"
      ]
     },
     "execution_count": 9,
     "metadata": {},
     "output_type": "execute_result"
    }
   ],
   "source": [
    "activities"
   ]
  },
  {
   "cell_type": "code",
   "execution_count": 12,
   "id": "a2cb1ff8",
   "metadata": {
    "scrolled": true
   },
   "outputs": [
    {
     "name": "stdout",
     "output_type": "stream",
     "text": [
      "idle :  1039\n",
      "running :  3408\n",
      "stairs :  165\n",
      "walking :  1850\n"
     ]
    }
   ],
   "source": [
    "for act in activities:\n",
    "    mypath = join(path, act)\n",
    "    frame = listdir(mypath)\n",
    "    print(act, \": \", len(frame))"
   ]
  },
  {
   "cell_type": "code",
   "execution_count": 15,
   "id": "ad95fd35",
   "metadata": {},
   "outputs": [],
   "source": [
    "from sklearn.metrics import mean_squared_error, mean_absolute_error\n",
    "from scipy.fftpack import fft, rfft\n",
    "from sklearn import preprocessing"
   ]
  },
  {
   "cell_type": "code",
   "execution_count": 27,
   "id": "f8ce1002",
   "metadata": {},
   "outputs": [],
   "source": [
    "features = [\n",
    "    \"skew_X\",\n",
    "    \"skew_Y\",\n",
    "    \"skew_Z\",\n",
    "    \"kurtosis_X\",\n",
    "    \"kurtosis_Y\",\n",
    "    \"kurtosis_Z\",\n",
    "    \"max_X\",\n",
    "    \"max_Y\",\n",
    "    \"max_Z\",\n",
    "    \"mean_X\",\n",
    "    \"mean_Y\",\n",
    "    \"mean_Z\",\n",
    "    \"std_X\",\n",
    "    \"std_Y\",\n",
    "    \"std_Z\",\n",
    "    \"variance_X\",\n",
    "    \"variance_Y\",\n",
    "    \"variance_Z\",\n",
    "    \"median_X\",\n",
    "    \"median_Y\",\n",
    "    \"median_Z\",\n",
    "    \"index_max_X\",\n",
    "    \"index_max_Y\",\n",
    "    \"index_max_Z\",\n",
    "    \"index_min_X\",\n",
    "    \"index_min_Y\",\n",
    "    \"index_min_Z\",\n",
    "    \"correlation_X_Y\",\n",
    "    \"correlation_X_Z\",\n",
    "    \"correlation_Y_Z\",\n",
    "    \"mae_X\",\n",
    "    \"mae_Y\",\n",
    "    \"mae_Z\",\n",
    "    \"rmse_X\",\n",
    "    \"rmse_Y\",\n",
    "    \"rmse_Z\"\n",
    "]"
   ]
  },
  {
   "cell_type": "code",
   "execution_count": 31,
   "id": "b13f5636",
   "metadata": {
    "scrolled": true
   },
   "outputs": [],
   "source": [
    "# Шлях до папки з файлами\n",
    "\n",
    "\n",
    "def create_fetures(class_name, class_number):\n",
    "    \n",
    "    folder_path = join(path, class_name)\n",
    "    \n",
    "    features_df = pd.DataFrame(columns=features)\n",
    "\n",
    "    # Отримання списку файлів у папці\n",
    "    file_list = listdir(folder_path)\n",
    "\n",
    "    # Проходження по кожному файлу та обчислення ознак\n",
    "    for file_name in file_list:\n",
    "\n",
    "        file_path = join(folder_path, file_name)\n",
    "        data = pd.read_csv(file_path)\n",
    "\n",
    "        # Обчислення ознак\n",
    "        features_values = []\n",
    "\n",
    "        # Обчислення skewness\n",
    "        skew_x = data['accelerometer_X'].skew()\n",
    "        skew_y = data['accelerometer_Y'].skew()\n",
    "        skew_z = data['accelerometer_Z'].skew()\n",
    "        features_values.extend([skew_x, skew_y, skew_z])\n",
    "\n",
    "            # Обчислення kurtosis\n",
    "        kurtosis_x = data['accelerometer_X'].kurtosis()\n",
    "        kurtosis_y = data['accelerometer_Y'].kurtosis()\n",
    "        kurtosis_z = data['accelerometer_Z'].kurtosis()\n",
    "        features_values.extend([kurtosis_x, kurtosis_y, kurtosis_z])\n",
    "\n",
    "            # Обчислення максимального значення\n",
    "        max_x = data['accelerometer_X'].max()\n",
    "        max_y = data['accelerometer_Y'].max()\n",
    "        max_z = data['accelerometer_Z'].max()\n",
    "        features_values.extend([max_x, max_y, max_z])\n",
    "\n",
    "            # Обчислення середнього значення\n",
    "        mean_x = data['accelerometer_X'].mean()\n",
    "        mean_y = data['accelerometer_Y'].mean()\n",
    "        mean_z = data['accelerometer_Z'].mean()\n",
    "        features_values.extend([mean_x, mean_y, mean_z])\n",
    "\n",
    "            # Обчислення стандартного відхилення\n",
    "        std_x = data['accelerometer_X'].std()\n",
    "        std_y = data['accelerometer_Y'].std()\n",
    "        std_z = data['accelerometer_Z'].std()\n",
    "        features_values.extend([std_x, std_y, std_z])\n",
    "\n",
    "            # Обчислення дисперсії\n",
    "        variance_x = data['accelerometer_X'].var()\n",
    "        variance_y = data['accelerometer_Y'].var()\n",
    "        variance_z = data['accelerometer_Z'].var()\n",
    "        features_values.extend([variance_x, variance_y, variance_z])\n",
    "\n",
    "            # Обчислення медіани\n",
    "        median_x = data['accelerometer_X'].median()\n",
    "        median_y = data['accelerometer_Y'].median()\n",
    "        median_z = data['accelerometer_Z'].median()\n",
    "        features_values.extend([median_x, median_y, median_z])\n",
    "\n",
    "            # Знаходження індексу максимального значення\n",
    "        index_max_x = data['accelerometer_X'].idxmax()\n",
    "        index_max_y = data['accelerometer_Y'].idxmax()\n",
    "        index_max_z = data['accelerometer_Z'].idxmax()\n",
    "        features_values.extend([index_max_x, index_max_y, index_max_z])\n",
    "\n",
    "            # Знаходження індексу мінімального значення\n",
    "        index_min_x = data['accelerometer_X'].idxmin()\n",
    "        index_min_y = data['accelerometer_Y'].idxmin()\n",
    "        index_min_z = data['accelerometer_Z'].idxmin()\n",
    "        features_values.extend([index_min_x, index_min_y, index_min_z])\n",
    "\n",
    "            # Обчислення кореляції між вимірами\n",
    "        correlation_x_y = data['accelerometer_X'].corr(data['accelerometer_Y'])\n",
    "        correlation_x_z = data['accelerometer_X'].corr(data['accelerometer_Z'])\n",
    "        correlation_y_z = data['accelerometer_Y'].corr(data['accelerometer_Z'])\n",
    "        features_values.extend([correlation_x_y, correlation_x_z, correlation_y_z])\n",
    "\n",
    "            # Обчислення MAE\n",
    "        mae_x = np.mean(np.abs(data['accelerometer_X'] - data['accelerometer_X'].mean()))\n",
    "        mae_y = np.mean(np.abs(data['accelerometer_Y'] - data['accelerometer_Y'].mean()))\n",
    "        mae_z = np.mean(np.abs(data['accelerometer_Z'] - data['accelerometer_Z'].mean()))\n",
    "        features_values.extend([mae_x, mae_y, mae_z])\n",
    "\n",
    "            # Обчислення RMSE\n",
    "        rmse_x = np.sqrt(np.mean(np.square(data['accelerometer_X'] - data['accelerometer_X'].mean())))\n",
    "        rmse_y = np.sqrt(np.mean(np.square(data['accelerometer_Y'] - data['accelerometer_Y'].mean())))\n",
    "        rmse_z = np.sqrt(np.mean(np.square(data['accelerometer_Z'] - data['accelerometer_Z'].mean())))\n",
    "        features_values.extend([rmse_x, rmse_y, rmse_z])\n",
    "\n",
    "            # Додавання значень ознак до DataFrame\n",
    "        features_df.loc[len(features_df)] = features_values\n",
    "        X = features_df\n",
    "        y = [class_number] * len(X)\n",
    "        \n",
    "        \n",
    "    return X, y\n"
   ]
  },
  {
   "cell_type": "code",
   "execution_count": 38,
   "id": "28722052",
   "metadata": {},
   "outputs": [],
   "source": [
    "def preapare_class():\n",
    "    X_idle, y_idle = create_fetures(\"idle\", 0)\n",
    "    X_running, y_running = create_fetures(\"running\", 1)\n",
    "    X_stairs, y_stairs = create_fetures(\"stairs\", 2)\n",
    "    X_walking, y_walking = create_fetures(\"walking\", 3)\n",
    "    \n",
    "    X = np.concatenate((X_idle, X_running), axis=0)\n",
    "    X = np.concatenate((X, X_stairs), axis=0)\n",
    "    X = np.concatenate((X, X_walking), axis=0)\n",
    "    \n",
    "    Y = np.concatenate((y_idle, y_running))\n",
    "    Y = np.concatenate((Y, y_stairs))\n",
    "    Y = np.concatenate((Y, y_walking))\n",
    "    \n",
    "    return X, Y\n",
    "    \n"
   ]
  },
  {
   "cell_type": "code",
   "execution_count": 39,
   "id": "c0b0e4bd",
   "metadata": {
    "scrolled": true
   },
   "outputs": [],
   "source": [
    "X, Y = preapare_class()"
   ]
  },
  {
   "cell_type": "code",
   "execution_count": 43,
   "id": "a308a2e4",
   "metadata": {
    "scrolled": true
   },
   "outputs": [],
   "source": [
    "import pickle\n",
    "with open(\"data_X\", \"wb\") as f:\n",
    "    pickle.dump(X, f)\n",
    "    \n",
    "with open(\"data_Y\", \"wb\") as f:\n",
    "    pickle.dump(Y, f)"
   ]
  },
  {
   "cell_type": "code",
   "execution_count": 67,
   "id": "f77145ee",
   "metadata": {
    "scrolled": true
   },
   "outputs": [],
   "source": [
    "from sklearn import model_selection\n",
    "from sklearn.metrics import accuracy_score\n",
    "from sklearn.model_selection import cross_val_score\n",
    "X_train, X_test, y_train, y_test = model_selection.train_test_split(X,Y, test_size=0.3)"
   ]
  },
  {
   "cell_type": "code",
   "execution_count": 72,
   "id": "66dafdc8",
   "metadata": {},
   "outputs": [
    {
     "data": {
      "text/html": [
       "<style>#sk-container-id-8 {color: black;background-color: white;}#sk-container-id-8 pre{padding: 0;}#sk-container-id-8 div.sk-toggleable {background-color: white;}#sk-container-id-8 label.sk-toggleable__label {cursor: pointer;display: block;width: 100%;margin-bottom: 0;padding: 0.3em;box-sizing: border-box;text-align: center;}#sk-container-id-8 label.sk-toggleable__label-arrow:before {content: \"▸\";float: left;margin-right: 0.25em;color: #696969;}#sk-container-id-8 label.sk-toggleable__label-arrow:hover:before {color: black;}#sk-container-id-8 div.sk-estimator:hover label.sk-toggleable__label-arrow:before {color: black;}#sk-container-id-8 div.sk-toggleable__content {max-height: 0;max-width: 0;overflow: hidden;text-align: left;background-color: #f0f8ff;}#sk-container-id-8 div.sk-toggleable__content pre {margin: 0.2em;color: black;border-radius: 0.25em;background-color: #f0f8ff;}#sk-container-id-8 input.sk-toggleable__control:checked~div.sk-toggleable__content {max-height: 200px;max-width: 100%;overflow: auto;}#sk-container-id-8 input.sk-toggleable__control:checked~label.sk-toggleable__label-arrow:before {content: \"▾\";}#sk-container-id-8 div.sk-estimator input.sk-toggleable__control:checked~label.sk-toggleable__label {background-color: #d4ebff;}#sk-container-id-8 div.sk-label input.sk-toggleable__control:checked~label.sk-toggleable__label {background-color: #d4ebff;}#sk-container-id-8 input.sk-hidden--visually {border: 0;clip: rect(1px 1px 1px 1px);clip: rect(1px, 1px, 1px, 1px);height: 1px;margin: -1px;overflow: hidden;padding: 0;position: absolute;width: 1px;}#sk-container-id-8 div.sk-estimator {font-family: monospace;background-color: #f0f8ff;border: 1px dotted black;border-radius: 0.25em;box-sizing: border-box;margin-bottom: 0.5em;}#sk-container-id-8 div.sk-estimator:hover {background-color: #d4ebff;}#sk-container-id-8 div.sk-parallel-item::after {content: \"\";width: 100%;border-bottom: 1px solid gray;flex-grow: 1;}#sk-container-id-8 div.sk-label:hover label.sk-toggleable__label {background-color: #d4ebff;}#sk-container-id-8 div.sk-serial::before {content: \"\";position: absolute;border-left: 1px solid gray;box-sizing: border-box;top: 0;bottom: 0;left: 50%;z-index: 0;}#sk-container-id-8 div.sk-serial {display: flex;flex-direction: column;align-items: center;background-color: white;padding-right: 0.2em;padding-left: 0.2em;position: relative;}#sk-container-id-8 div.sk-item {position: relative;z-index: 1;}#sk-container-id-8 div.sk-parallel {display: flex;align-items: stretch;justify-content: center;background-color: white;position: relative;}#sk-container-id-8 div.sk-item::before, #sk-container-id-8 div.sk-parallel-item::before {content: \"\";position: absolute;border-left: 1px solid gray;box-sizing: border-box;top: 0;bottom: 0;left: 50%;z-index: -1;}#sk-container-id-8 div.sk-parallel-item {display: flex;flex-direction: column;z-index: 1;position: relative;background-color: white;}#sk-container-id-8 div.sk-parallel-item:first-child::after {align-self: flex-end;width: 50%;}#sk-container-id-8 div.sk-parallel-item:last-child::after {align-self: flex-start;width: 50%;}#sk-container-id-8 div.sk-parallel-item:only-child::after {width: 0;}#sk-container-id-8 div.sk-dashed-wrapped {border: 1px dashed gray;margin: 0 0.4em 0.5em 0.4em;box-sizing: border-box;padding-bottom: 0.4em;background-color: white;}#sk-container-id-8 div.sk-label label {font-family: monospace;font-weight: bold;display: inline-block;line-height: 1.2em;}#sk-container-id-8 div.sk-label-container {text-align: center;}#sk-container-id-8 div.sk-container {/* jupyter's `normalize.less` sets `[hidden] { display: none; }` but bootstrap.min.css set `[hidden] { display: none !important; }` so we also need the `!important` here to be able to override the default hidden behavior on the sphinx rendered scikit-learn.org. See: https://github.com/scikit-learn/scikit-learn/issues/21755 */display: inline-block !important;position: relative;}#sk-container-id-8 div.sk-text-repr-fallback {display: none;}</style><div id=\"sk-container-id-8\" class=\"sk-top-container\"><div class=\"sk-text-repr-fallback\"><pre>SVC(decision_function_shape=&#x27;ovo&#x27;, gamma=0.01, probability=True)</pre><b>In a Jupyter environment, please rerun this cell to show the HTML representation or trust the notebook. <br />On GitHub, the HTML representation is unable to render, please try loading this page with nbviewer.org.</b></div><div class=\"sk-container\" hidden><div class=\"sk-item\"><div class=\"sk-estimator sk-toggleable\"><input class=\"sk-toggleable__control sk-hidden--visually\" id=\"sk-estimator-id-8\" type=\"checkbox\" checked><label for=\"sk-estimator-id-8\" class=\"sk-toggleable__label sk-toggleable__label-arrow\">SVC</label><div class=\"sk-toggleable__content\"><pre>SVC(decision_function_shape=&#x27;ovo&#x27;, gamma=0.01, probability=True)</pre></div></div></div></div></div>"
      ],
      "text/plain": [
       "SVC(decision_function_shape='ovo', gamma=0.01, probability=True)"
      ]
     },
     "execution_count": 72,
     "metadata": {},
     "output_type": "execute_result"
    }
   ],
   "source": [
    "from sklearn import svm\n",
    "clf = svm.SVC(decision_function_shape=\"ovo\", kernel=\"rbf\", gamma=0.01, probability=True)\n",
    "clf.fit(X_train, y_train)"
   ]
  },
  {
   "cell_type": "code",
   "execution_count": 73,
   "id": "f60338a5",
   "metadata": {},
   "outputs": [
    {
     "data": {
      "text/plain": [
       "0.887055183084064"
      ]
     },
     "execution_count": 73,
     "metadata": {},
     "output_type": "execute_result"
    }
   ],
   "source": [
    "prediction_csv_ovo = clf.predict(X_test)\n",
    "acuracy = accuracy_score(y_test, prediction_csv_ovo)\n",
    "acuracy"
   ]
  },
  {
   "cell_type": "code",
   "execution_count": 77,
   "id": "197e6238",
   "metadata": {},
   "outputs": [
    {
     "data": {
      "text/html": [
       "<style>#sk-container-id-10 {color: black;background-color: white;}#sk-container-id-10 pre{padding: 0;}#sk-container-id-10 div.sk-toggleable {background-color: white;}#sk-container-id-10 label.sk-toggleable__label {cursor: pointer;display: block;width: 100%;margin-bottom: 0;padding: 0.3em;box-sizing: border-box;text-align: center;}#sk-container-id-10 label.sk-toggleable__label-arrow:before {content: \"▸\";float: left;margin-right: 0.25em;color: #696969;}#sk-container-id-10 label.sk-toggleable__label-arrow:hover:before {color: black;}#sk-container-id-10 div.sk-estimator:hover label.sk-toggleable__label-arrow:before {color: black;}#sk-container-id-10 div.sk-toggleable__content {max-height: 0;max-width: 0;overflow: hidden;text-align: left;background-color: #f0f8ff;}#sk-container-id-10 div.sk-toggleable__content pre {margin: 0.2em;color: black;border-radius: 0.25em;background-color: #f0f8ff;}#sk-container-id-10 input.sk-toggleable__control:checked~div.sk-toggleable__content {max-height: 200px;max-width: 100%;overflow: auto;}#sk-container-id-10 input.sk-toggleable__control:checked~label.sk-toggleable__label-arrow:before {content: \"▾\";}#sk-container-id-10 div.sk-estimator input.sk-toggleable__control:checked~label.sk-toggleable__label {background-color: #d4ebff;}#sk-container-id-10 div.sk-label input.sk-toggleable__control:checked~label.sk-toggleable__label {background-color: #d4ebff;}#sk-container-id-10 input.sk-hidden--visually {border: 0;clip: rect(1px 1px 1px 1px);clip: rect(1px, 1px, 1px, 1px);height: 1px;margin: -1px;overflow: hidden;padding: 0;position: absolute;width: 1px;}#sk-container-id-10 div.sk-estimator {font-family: monospace;background-color: #f0f8ff;border: 1px dotted black;border-radius: 0.25em;box-sizing: border-box;margin-bottom: 0.5em;}#sk-container-id-10 div.sk-estimator:hover {background-color: #d4ebff;}#sk-container-id-10 div.sk-parallel-item::after {content: \"\";width: 100%;border-bottom: 1px solid gray;flex-grow: 1;}#sk-container-id-10 div.sk-label:hover label.sk-toggleable__label {background-color: #d4ebff;}#sk-container-id-10 div.sk-serial::before {content: \"\";position: absolute;border-left: 1px solid gray;box-sizing: border-box;top: 0;bottom: 0;left: 50%;z-index: 0;}#sk-container-id-10 div.sk-serial {display: flex;flex-direction: column;align-items: center;background-color: white;padding-right: 0.2em;padding-left: 0.2em;position: relative;}#sk-container-id-10 div.sk-item {position: relative;z-index: 1;}#sk-container-id-10 div.sk-parallel {display: flex;align-items: stretch;justify-content: center;background-color: white;position: relative;}#sk-container-id-10 div.sk-item::before, #sk-container-id-10 div.sk-parallel-item::before {content: \"\";position: absolute;border-left: 1px solid gray;box-sizing: border-box;top: 0;bottom: 0;left: 50%;z-index: -1;}#sk-container-id-10 div.sk-parallel-item {display: flex;flex-direction: column;z-index: 1;position: relative;background-color: white;}#sk-container-id-10 div.sk-parallel-item:first-child::after {align-self: flex-end;width: 50%;}#sk-container-id-10 div.sk-parallel-item:last-child::after {align-self: flex-start;width: 50%;}#sk-container-id-10 div.sk-parallel-item:only-child::after {width: 0;}#sk-container-id-10 div.sk-dashed-wrapped {border: 1px dashed gray;margin: 0 0.4em 0.5em 0.4em;box-sizing: border-box;padding-bottom: 0.4em;background-color: white;}#sk-container-id-10 div.sk-label label {font-family: monospace;font-weight: bold;display: inline-block;line-height: 1.2em;}#sk-container-id-10 div.sk-label-container {text-align: center;}#sk-container-id-10 div.sk-container {/* jupyter's `normalize.less` sets `[hidden] { display: none; }` but bootstrap.min.css set `[hidden] { display: none !important; }` so we also need the `!important` here to be able to override the default hidden behavior on the sphinx rendered scikit-learn.org. See: https://github.com/scikit-learn/scikit-learn/issues/21755 */display: inline-block !important;position: relative;}#sk-container-id-10 div.sk-text-repr-fallback {display: none;}</style><div id=\"sk-container-id-10\" class=\"sk-top-container\"><div class=\"sk-text-repr-fallback\"><pre>SVC(kernel=&#x27;linear&#x27;, probability=True)</pre><b>In a Jupyter environment, please rerun this cell to show the HTML representation or trust the notebook. <br />On GitHub, the HTML representation is unable to render, please try loading this page with nbviewer.org.</b></div><div class=\"sk-container\" hidden><div class=\"sk-item\"><div class=\"sk-estimator sk-toggleable\"><input class=\"sk-toggleable__control sk-hidden--visually\" id=\"sk-estimator-id-10\" type=\"checkbox\" checked><label for=\"sk-estimator-id-10\" class=\"sk-toggleable__label sk-toggleable__label-arrow\">SVC</label><div class=\"sk-toggleable__content\"><pre>SVC(kernel=&#x27;linear&#x27;, probability=True)</pre></div></div></div></div></div>"
      ],
      "text/plain": [
       "SVC(kernel='linear', probability=True)"
      ]
     },
     "execution_count": 77,
     "metadata": {},
     "output_type": "execute_result"
    }
   ],
   "source": [
    "clf_ovr = svm.SVC(kernel=\"linear\", probability=True)\n",
    "clf_ovr.fit(X_train, y_train)"
   ]
  },
  {
   "cell_type": "code",
   "execution_count": 78,
   "id": "641e7844",
   "metadata": {},
   "outputs": [
    {
     "data": {
      "text/plain": [
       "0.9938112429087158"
      ]
     },
     "execution_count": 78,
     "metadata": {},
     "output_type": "execute_result"
    }
   ],
   "source": [
    "prediction_csv_ovr = clf_ovr.predict(X_test)\n",
    "acuracy = accuracy_score(y_test, prediction_csv_ovr)\n",
    "acuracy"
   ]
  },
  {
   "cell_type": "code",
   "execution_count": 80,
   "id": "d7497d05",
   "metadata": {},
   "outputs": [
    {
     "data": {
      "text/plain": [
       "0.994694660962316"
      ]
     },
     "execution_count": 80,
     "metadata": {},
     "output_type": "execute_result"
    }
   ],
   "source": [
    "score = cross_val_score(clf_ovr, X_train, y_train, cv=10)\n",
    "score.mean()"
   ]
  },
  {
   "cell_type": "code",
   "execution_count": 84,
   "id": "939c8c08",
   "metadata": {},
   "outputs": [],
   "source": [
    "from sklearn.ensemble import RandomForestClassifier\n",
    "clf_forest = RandomForestClassifier(n_estimators=15, max_depth=None)"
   ]
  },
  {
   "cell_type": "code",
   "execution_count": 85,
   "id": "006911f9",
   "metadata": {},
   "outputs": [
    {
     "data": {
      "text/html": [
       "<style>#sk-container-id-11 {color: black;background-color: white;}#sk-container-id-11 pre{padding: 0;}#sk-container-id-11 div.sk-toggleable {background-color: white;}#sk-container-id-11 label.sk-toggleable__label {cursor: pointer;display: block;width: 100%;margin-bottom: 0;padding: 0.3em;box-sizing: border-box;text-align: center;}#sk-container-id-11 label.sk-toggleable__label-arrow:before {content: \"▸\";float: left;margin-right: 0.25em;color: #696969;}#sk-container-id-11 label.sk-toggleable__label-arrow:hover:before {color: black;}#sk-container-id-11 div.sk-estimator:hover label.sk-toggleable__label-arrow:before {color: black;}#sk-container-id-11 div.sk-toggleable__content {max-height: 0;max-width: 0;overflow: hidden;text-align: left;background-color: #f0f8ff;}#sk-container-id-11 div.sk-toggleable__content pre {margin: 0.2em;color: black;border-radius: 0.25em;background-color: #f0f8ff;}#sk-container-id-11 input.sk-toggleable__control:checked~div.sk-toggleable__content {max-height: 200px;max-width: 100%;overflow: auto;}#sk-container-id-11 input.sk-toggleable__control:checked~label.sk-toggleable__label-arrow:before {content: \"▾\";}#sk-container-id-11 div.sk-estimator input.sk-toggleable__control:checked~label.sk-toggleable__label {background-color: #d4ebff;}#sk-container-id-11 div.sk-label input.sk-toggleable__control:checked~label.sk-toggleable__label {background-color: #d4ebff;}#sk-container-id-11 input.sk-hidden--visually {border: 0;clip: rect(1px 1px 1px 1px);clip: rect(1px, 1px, 1px, 1px);height: 1px;margin: -1px;overflow: hidden;padding: 0;position: absolute;width: 1px;}#sk-container-id-11 div.sk-estimator {font-family: monospace;background-color: #f0f8ff;border: 1px dotted black;border-radius: 0.25em;box-sizing: border-box;margin-bottom: 0.5em;}#sk-container-id-11 div.sk-estimator:hover {background-color: #d4ebff;}#sk-container-id-11 div.sk-parallel-item::after {content: \"\";width: 100%;border-bottom: 1px solid gray;flex-grow: 1;}#sk-container-id-11 div.sk-label:hover label.sk-toggleable__label {background-color: #d4ebff;}#sk-container-id-11 div.sk-serial::before {content: \"\";position: absolute;border-left: 1px solid gray;box-sizing: border-box;top: 0;bottom: 0;left: 50%;z-index: 0;}#sk-container-id-11 div.sk-serial {display: flex;flex-direction: column;align-items: center;background-color: white;padding-right: 0.2em;padding-left: 0.2em;position: relative;}#sk-container-id-11 div.sk-item {position: relative;z-index: 1;}#sk-container-id-11 div.sk-parallel {display: flex;align-items: stretch;justify-content: center;background-color: white;position: relative;}#sk-container-id-11 div.sk-item::before, #sk-container-id-11 div.sk-parallel-item::before {content: \"\";position: absolute;border-left: 1px solid gray;box-sizing: border-box;top: 0;bottom: 0;left: 50%;z-index: -1;}#sk-container-id-11 div.sk-parallel-item {display: flex;flex-direction: column;z-index: 1;position: relative;background-color: white;}#sk-container-id-11 div.sk-parallel-item:first-child::after {align-self: flex-end;width: 50%;}#sk-container-id-11 div.sk-parallel-item:last-child::after {align-self: flex-start;width: 50%;}#sk-container-id-11 div.sk-parallel-item:only-child::after {width: 0;}#sk-container-id-11 div.sk-dashed-wrapped {border: 1px dashed gray;margin: 0 0.4em 0.5em 0.4em;box-sizing: border-box;padding-bottom: 0.4em;background-color: white;}#sk-container-id-11 div.sk-label label {font-family: monospace;font-weight: bold;display: inline-block;line-height: 1.2em;}#sk-container-id-11 div.sk-label-container {text-align: center;}#sk-container-id-11 div.sk-container {/* jupyter's `normalize.less` sets `[hidden] { display: none; }` but bootstrap.min.css set `[hidden] { display: none !important; }` so we also need the `!important` here to be able to override the default hidden behavior on the sphinx rendered scikit-learn.org. See: https://github.com/scikit-learn/scikit-learn/issues/21755 */display: inline-block !important;position: relative;}#sk-container-id-11 div.sk-text-repr-fallback {display: none;}</style><div id=\"sk-container-id-11\" class=\"sk-top-container\"><div class=\"sk-text-repr-fallback\"><pre>RandomForestClassifier(n_estimators=15)</pre><b>In a Jupyter environment, please rerun this cell to show the HTML representation or trust the notebook. <br />On GitHub, the HTML representation is unable to render, please try loading this page with nbviewer.org.</b></div><div class=\"sk-container\" hidden><div class=\"sk-item\"><div class=\"sk-estimator sk-toggleable\"><input class=\"sk-toggleable__control sk-hidden--visually\" id=\"sk-estimator-id-11\" type=\"checkbox\" checked><label for=\"sk-estimator-id-11\" class=\"sk-toggleable__label sk-toggleable__label-arrow\">RandomForestClassifier</label><div class=\"sk-toggleable__content\"><pre>RandomForestClassifier(n_estimators=15)</pre></div></div></div></div></div>"
      ],
      "text/plain": [
       "RandomForestClassifier(n_estimators=15)"
      ]
     },
     "execution_count": 85,
     "metadata": {},
     "output_type": "execute_result"
    }
   ],
   "source": [
    "clf_forest.fit(X_train, y_train)"
   ]
  },
  {
   "cell_type": "code",
   "execution_count": 87,
   "id": "5ddcbadf",
   "metadata": {},
   "outputs": [
    {
     "data": {
      "text/plain": [
       "0.9969046084119635"
      ]
     },
     "execution_count": 87,
     "metadata": {},
     "output_type": "execute_result"
    }
   ],
   "source": [
    "scores = cross_val_score(clf_forest, X_train, y_train, cv=10)\n",
    "scores.mean()"
   ]
  },
  {
   "cell_type": "code",
   "execution_count": 88,
   "id": "b3e9aaf2",
   "metadata": {},
   "outputs": [
    {
     "data": {
      "text/plain": [
       "0.9963898916967509"
      ]
     },
     "execution_count": 88,
     "metadata": {},
     "output_type": "execute_result"
    }
   ],
   "source": [
    "y_pred_forest= clf_forest.predict(X_test)\n",
    "acuracy_forest = accuracy_score(y_test, y_pred_forest)\n",
    "acuracy_forest"
   ]
  },
  {
   "cell_type": "code",
   "execution_count": null,
   "id": "b2daddcd",
   "metadata": {},
   "outputs": [],
   "source": []
  }
 ],
 "metadata": {
  "kernelspec": {
   "display_name": "Python 3 (ipykernel)",
   "language": "python",
   "name": "python3"
  },
  "language_info": {
   "codemirror_mode": {
    "name": "ipython",
    "version": 3
   },
   "file_extension": ".py",
   "mimetype": "text/x-python",
   "name": "python",
   "nbconvert_exporter": "python",
   "pygments_lexer": "ipython3",
   "version": "3.10.9"
  }
 },
 "nbformat": 4,
 "nbformat_minor": 5
}
